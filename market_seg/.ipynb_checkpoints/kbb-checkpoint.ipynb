{
 "cells": [
  {
   "cell_type": "code",
   "execution_count": 27,
   "metadata": {},
   "outputs": [],
   "source": [
    "# Import Required Modules\n",
    "import matplotlib.pyplot as plt\n",
    "import pandas as pd\n",
    "import scipy.stats as st\n",
    "import numpy as np\n",
    "import csv \n",
    "import glob\n",
    "\n"
   ]
  },
  {
   "cell_type": "code",
   "execution_count": 28,
   "metadata": {},
   "outputs": [],
   "source": [
    "# Create Dataframe with all manufacturers\n",
    "\n",
    "path = './Car_data/'\n",
    "all_files = glob.glob(path + \"/*.csv\")\n",
    "\n",
    "file_list = []\n",
    "\n",
    "for filename in all_files:\n",
    "    df = pd.read_csv(filename, index_col=None, header=0)\n",
    "    file_list.append(df)\n",
    "\n",
    "all_kbb = pd.concat(file_list, axis=0, ignore_index=True)\n"
   ]
  },
  {
   "cell_type": "code",
   "execution_count": 29,
   "metadata": {},
   "outputs": [
    {
     "data": {
      "text/html": [
       "<div>\n",
       "<style scoped>\n",
       "    .dataframe tbody tr th:only-of-type {\n",
       "        vertical-align: middle;\n",
       "    }\n",
       "\n",
       "    .dataframe tbody tr th {\n",
       "        vertical-align: top;\n",
       "    }\n",
       "\n",
       "    .dataframe thead th {\n",
       "        text-align: right;\n",
       "    }\n",
       "</style>\n",
       "<table border=\"1\" class=\"dataframe\">\n",
       "  <thead>\n",
       "    <tr style=\"text-align: right;\">\n",
       "      <th></th>\n",
       "      <th>Company</th>\n",
       "      <th>Model</th>\n",
       "      <th>MSRP</th>\n",
       "    </tr>\n",
       "  </thead>\n",
       "  <tbody>\n",
       "    <tr>\n",
       "      <th>0</th>\n",
       "      <td>Hyundai</td>\n",
       "      <td>Accent</td>\n",
       "      <td>16270</td>\n",
       "    </tr>\n",
       "    <tr>\n",
       "      <th>1</th>\n",
       "      <td>Hyundai</td>\n",
       "      <td>Eleantra</td>\n",
       "      <td>20275</td>\n",
       "    </tr>\n",
       "    <tr>\n",
       "      <th>2</th>\n",
       "      <td>Hyundai</td>\n",
       "      <td>Ioniq Elecrtic</td>\n",
       "      <td>34020</td>\n",
       "    </tr>\n",
       "    <tr>\n",
       "      <th>3</th>\n",
       "      <td>Hyundai</td>\n",
       "      <td>Ioniq Hybrid</td>\n",
       "      <td>24175</td>\n",
       "    </tr>\n",
       "    <tr>\n",
       "      <th>4</th>\n",
       "      <td>Hyundai</td>\n",
       "      <td>loniq Plug- In Hybrid</td>\n",
       "      <td>27475</td>\n",
       "    </tr>\n",
       "    <tr>\n",
       "      <th>...</th>\n",
       "      <td>...</td>\n",
       "      <td>...</td>\n",
       "      <td>...</td>\n",
       "    </tr>\n",
       "    <tr>\n",
       "      <th>564</th>\n",
       "      <td>Chrysler</td>\n",
       "      <td>2020 Ram 2500 Mega Cab</td>\n",
       "      <td>48445</td>\n",
       "    </tr>\n",
       "    <tr>\n",
       "      <th>565</th>\n",
       "      <td>Chrysler</td>\n",
       "      <td>2020 Ram 3500 Crew Cab</td>\n",
       "      <td>40345</td>\n",
       "    </tr>\n",
       "    <tr>\n",
       "      <th>566</th>\n",
       "      <td>Chrysler</td>\n",
       "      <td>2020 Ram ProMaster City</td>\n",
       "      <td>26075</td>\n",
       "    </tr>\n",
       "    <tr>\n",
       "      <th>567</th>\n",
       "      <td>Chrysler</td>\n",
       "      <td>2021 Ram ProMaster Cargo Van</td>\n",
       "      <td>33235</td>\n",
       "    </tr>\n",
       "    <tr>\n",
       "      <th>568</th>\n",
       "      <td>Chrysler</td>\n",
       "      <td>2021 Ram ProMaster Window Van</td>\n",
       "      <td>38985</td>\n",
       "    </tr>\n",
       "  </tbody>\n",
       "</table>\n",
       "<p>569 rows × 3 columns</p>\n",
       "</div>"
      ],
      "text/plain": [
       "      Company                          Model   MSRP\n",
       "0     Hyundai                        Accent   16270\n",
       "1     Hyundai                      Eleantra   20275\n",
       "2     Hyundai                Ioniq Elecrtic   34020\n",
       "3     Hyundai                  Ioniq Hybrid   24175\n",
       "4     Hyundai         loniq Plug- In Hybrid   27475\n",
       "..        ...                            ...    ...\n",
       "564  Chrysler         2020 Ram 2500 Mega Cab  48445\n",
       "565  Chrysler         2020 Ram 3500 Crew Cab  40345\n",
       "566  Chrysler        2020 Ram ProMaster City  26075\n",
       "567  Chrysler   2021 Ram ProMaster Cargo Van  33235\n",
       "568  Chrysler  2021 Ram ProMaster Window Van  38985\n",
       "\n",
       "[569 rows x 3 columns]"
      ]
     },
     "execution_count": 29,
     "metadata": {},
     "output_type": "execute_result"
    }
   ],
   "source": [
    "all_kbb"
   ]
  },
  {
   "cell_type": "code",
   "execution_count": 33,
   "metadata": {},
   "outputs": [
    {
     "name": "stdout",
     "output_type": "stream",
     "text": [
      "Company\n",
      "Audi        53895.0\n",
      "BMW         59895.0\n",
      "Chrysler    34535.0\n",
      "Ford        37265.0\n",
      "GM          36642.5\n",
      "Honda       30940.0\n",
      "Hyundai     27445.0\n",
      "Mazda       25707.5\n",
      "Mercedes    63995.0\n",
      "Nissan      31015.0\n",
      "Porsche     82450.0\n",
      "Tesla       67690.0\n",
      "Toyota      31217.5\n",
      "VW          29515.0\n",
      "Name: MSRP, dtype: float64\n"
     ]
    }
   ],
   "source": [
    "all_kk_groupby=all_kbb.groupby('Company')['MSRP'].median()\n",
    "print(all_kk_groupby)"
   ]
  },
  {
   "cell_type": "code",
   "execution_count": 34,
   "metadata": {},
   "outputs": [
    {
     "name": "stdout",
     "output_type": "stream",
     "text": [
      "Company\n",
      "Audi        185050\n",
      "BMW         164295\n",
      "Chrysler    152975\n",
      "Ford         86220\n",
      "GM           92790\n",
      "Honda        59445\n",
      "Hyundai      59875\n",
      "Mazda        35060\n",
      "Mercedes    181095\n",
      "Nissan      115335\n",
      "Porsche     152250\n",
      "Tesla        83200\n",
      "Toyota       86740\n",
      "VW           41290\n",
      "Name: MSRP, dtype: int64\n"
     ]
    }
   ],
   "source": [
    "all_kk_max=all_kbb.groupby('Company')['MSRP'].max()\n",
    "print(all_kk_max)"
   ]
  },
  {
   "cell_type": "code",
   "execution_count": 35,
   "metadata": {},
   "outputs": [
    {
     "name": "stdout",
     "output_type": "stream",
     "text": [
      "Company\n",
      "Audi        34295\n",
      "BMW         36195\n",
      "Chrysler    17740\n",
      "Ford        15235\n",
      "GM          14095\n",
      "Honda       17145\n",
      "Hyundai     16270\n",
      "Mazda       21445\n",
      "Mercedes    28375\n",
      "Nissan      15755\n",
      "Porsche     52250\n",
      "Tesla       39190\n",
      "Toyota      16605\n",
      "VW          19440\n",
      "Name: MSRP, dtype: int64\n"
     ]
    }
   ],
   "source": [
    "all_kk_min=all_kbb.groupby('Company')['MSRP'].min()\n",
    "print(all_kk_min)"
   ]
  },
  {
   "cell_type": "code",
   "execution_count": 42,
   "metadata": {},
   "outputs": [
    {
     "data": {
      "text/plain": [
       "count       14.000000\n",
       "mean     43729.107143\n",
       "std      18185.153513\n",
       "min      25707.500000\n",
       "25%      30958.750000\n",
       "50%      35588.750000\n",
       "75%      58395.000000\n",
       "max      82450.000000\n",
       "Name: MSRP, dtype: float64"
      ]
     },
     "execution_count": 42,
     "metadata": {},
     "output_type": "execute_result"
    }
   ],
   "source": [
    "all_kk_groupby.rename(columns={'Company', 'Base Price']\n",
    "all_kk_groupby."
   ]
  }
 ],
 "metadata": {
  "kernelspec": {
   "display_name": "Python 3",
   "language": "python",
   "name": "python3"
  },
  "language_info": {
   "codemirror_mode": {
    "name": "ipython",
    "version": 3
   },
   "file_extension": ".py",
   "mimetype": "text/x-python",
   "name": "python",
   "nbconvert_exporter": "python",
   "pygments_lexer": "ipython3",
   "version": "3.8.3"
  }
 },
 "nbformat": 4,
 "nbformat_minor": 4
}
