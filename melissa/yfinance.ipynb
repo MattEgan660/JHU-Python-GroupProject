{
 "cells": [
  {
   "cell_type": "code",
   "execution_count": 15,
   "metadata": {},
   "outputs": [
    {
     "name": "stdout",
     "output_type": "stream",
     "text": [
      "           Date        Open        High         Low       Close    Volume  \\\n",
      "0    2010-06-29    3.800000    5.000000    3.508000    4.778000  93831500   \n",
      "1    2010-06-30    5.158000    6.084000    4.660000    4.766000  85935500   \n",
      "2    2010-07-01    5.000000    5.184000    4.054000    4.392000  41094000   \n",
      "3    2010-07-02    4.600000    4.620000    3.742000    3.840000  25699000   \n",
      "4    2010-07-06    4.000000    4.000000    3.166000    3.222000  34334500   \n",
      "...         ...         ...         ...         ...         ...       ...   \n",
      "2622 2020-11-25  550.059998  574.000000  545.369995  574.000000  48930200   \n",
      "2623 2020-11-27  581.159973  598.780029  578.450012  585.760010  37561100   \n",
      "2624 2020-11-30  602.210022  607.799988  554.510010  567.599976  63003100   \n",
      "2625 2020-12-01  597.590027  597.849976  572.049988  584.760010  40103500   \n",
      "2626 2020-12-02  556.440002  571.539978  541.210022  568.820007  47775653   \n",
      "\n",
      "      Dividends  Stock Splits  \n",
      "0             0           0.0  \n",
      "1             0           0.0  \n",
      "2             0           0.0  \n",
      "3             0           0.0  \n",
      "4             0           0.0  \n",
      "...         ...           ...  \n",
      "2622          0           0.0  \n",
      "2623          0           0.0  \n",
      "2624          0           0.0  \n",
      "2625          0           0.0  \n",
      "2626          0           0.0  \n",
      "\n",
      "[2627 rows x 8 columns]\n"
     ]
    }
   ],
   "source": [
    "import yfinance as yf\n",
    "import csv\n",
    "import pandas as pd\n",
    "msft = yf.Ticker(\"TSLA\")\n",
    "\n",
    "\n",
    "# get historical market data\n",
    "hist = msft.history(period=\"max\").reset_index()\n",
    "print(hist)\n",
    "\n"
   ]
  },
  {
   "cell_type": "code",
   "execution_count": 17,
   "metadata": {},
   "outputs": [],
   "source": [
    "hist.to_csv(r'C:\\Users\\msmas\\Desktop\\test.csv', index=False, header=True)"
   ]
  }
 ],
 "metadata": {
  "kernelspec": {
   "display_name": "Python 3",
   "language": "python",
   "name": "python3"
  },
  "language_info": {
   "codemirror_mode": {
    "name": "ipython",
    "version": 3
   },
   "file_extension": ".py",
   "mimetype": "text/x-python",
   "name": "python",
   "nbconvert_exporter": "python",
   "pygments_lexer": "ipython3",
   "version": "3.8.3"
  }
 },
 "nbformat": 4,
 "nbformat_minor": 4
}
